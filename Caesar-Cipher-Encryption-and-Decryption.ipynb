{
 "cells": [
  {
   "cell_type": "markdown",
   "metadata": {},
   "source": [
    "This is an encryption method that is used to encrypt the plain text into the Cipher text by the use of substitution of characters. Please refer to the example below:"
   ]
  },
  {
   "cell_type": "markdown",
   "metadata": {},
   "source": [
    "# ABCDEFGHIJKLMNOPQRSTUVWXYZ\n",
    "\n",
    "# XYZABCDEFGHIJKLMNOPQRSTUVW"
   ]
  },
  {
   "cell_type": "markdown",
   "metadata": {},
   "source": [
    "Above, the letters are shifted 3 places forward."
   ]
  },
  {
   "cell_type": "markdown",
   "metadata": {},
   "source": [
    "# Input of letter sequence (key) from the user"
   ]
  },
  {
   "cell_type": "code",
   "execution_count": 1,
   "metadata": {
    "scrolled": true
   },
   "outputs": [
    {
     "name": "stdout",
     "output_type": "stream",
     "text": [
      "Enter the number of shifts you want: 4\n",
      "Enter the message that you want to encrypt: HELLO WORLD\n",
      "The encryped message is: DAHHK SKNHZ\n"
     ]
    }
   ],
   "source": [
    "import string\n",
    "x = string.ascii_uppercase\n",
    "user_shift_input = int(input('Enter the number of shifts you want: '))\n",
    "key = x[(len(x)-user_shift_input):] + x[:(len(x)-user_shift_input)]\n",
    "# print(key)\n",
    "\n",
    "user_input = input('Enter the message that you want to encrypt: ').upper()\n",
    "# print(user_input)\n",
    "\n",
    "my_str = ''\n",
    "\n",
    "for i in user_input:\n",
    "    if i == ' ':\n",
    "        my_str = my_str + i\n",
    "        continue\n",
    "    index_1 = x.index(i)\n",
    "    my_str = my_str + key[index_1]\n",
    "    \n",
    "print(f'The encryped message is: {my_str}')"
   ]
  },
  {
   "cell_type": "markdown",
   "metadata": {},
   "source": [
    "# Decryption"
   ]
  },
  {
   "cell_type": "code",
   "execution_count": 2,
   "metadata": {},
   "outputs": [
    {
     "name": "stdout",
     "output_type": "stream",
     "text": [
      "Enter the message that you want to decrypt: DAHHK SKNHZ\n",
      "Enter the number of shifts you want: 4\n",
      "The decryped message is: HELLO WORLD\n"
     ]
    }
   ],
   "source": [
    "import string\n",
    "\n",
    "a = key\n",
    "d_user_input = input('Enter the message that you want to decrypt: ').upper()\n",
    "d_shift = int(input('Enter the number of shifts you want: '))\n",
    "y = x[:(len(x)-d_shift)] + x[(len(x)-d_shift):]\n",
    "# print(a)\n",
    "# print(y)\n",
    "\n",
    "d_my_str = ''\n",
    "\n",
    "for i in d_user_input:\n",
    "    if i == ' ':\n",
    "        d_my_str = d_my_str + i\n",
    "        continue\n",
    "    d_index_1 = a.index(i)\n",
    "    d_my_str = d_my_str + y[d_index_1]\n",
    "    \n",
    "print(f'The decryped message is: {d_my_str}')"
   ]
  },
  {
   "cell_type": "code",
   "execution_count": null,
   "metadata": {},
   "outputs": [],
   "source": []
  }
 ],
 "metadata": {
  "kernelspec": {
   "display_name": "Python 3",
   "language": "python",
   "name": "python3"
  },
  "language_info": {
   "codemirror_mode": {
    "name": "ipython",
    "version": 3
   },
   "file_extension": ".py",
   "mimetype": "text/x-python",
   "name": "python",
   "nbconvert_exporter": "python",
   "pygments_lexer": "ipython3",
   "version": "3.7.3"
  }
 },
 "nbformat": 4,
 "nbformat_minor": 2
}
